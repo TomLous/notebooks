{
 "cells": [
  {
   "cell_type": "code",
   "execution_count": 56,
   "metadata": {
    "collapsed": true
   },
   "outputs": [],
   "source": [
    "letters_naar_tekens = {\n",
    "    'A' : '!', 'B' : '@', 'C' : '#', 'D' : '$',\t'E' : '%', 'F' : '€', 'G' : '^', 'H' : '&',\n",
    "    'I' : '*', 'J' : '(', 'K' : ')', 'L' : '1',\t'N' : '2', 'M' : '3', 'O' : '4', 'P' : '5',\n",
    "    'Q' : '6', 'R' : '7', 'S' : '8', 'T' : '9', 'U' : ':', 'V' : ';', 'W' : '”', 'X' : '/',\n",
    "    'Y' : '?', 'Z' : '<', '!' : '>', '?' : '}', '.' : '{', ',' : ']',  ' ' : ' '\n",
    "}\n",
    "\n",
    "tekens_naar_letters = {teken: letter for letter, teken in letters_naar_tekens.items()}"
   ]
  },
  {
   "cell_type": "code",
   "execution_count": 57,
   "outputs": [],
   "source": [
    "def codeer(zin):\n",
    "    zin_met_hoofletters = zin.upper()\n",
    "    geheime_zin = ''\n",
    "    for letter in zin_met_hoofletters:\n",
    "        if letter in letters_naar_tekens:\n",
    "            teken = letters_naar_tekens.get(letter)\n",
    "            geheime_zin = geheime_zin + teken\n",
    "        else:\n",
    "            print(f'Ik kan letter {letter} niet coderen')\n",
    "\n",
    "    return geheime_zin"
   ],
   "metadata": {
    "collapsed": false,
    "pycharm": {
     "name": "#%%\n"
    }
   }
  },
  {
   "cell_type": "code",
   "execution_count": 66,
   "outputs": [],
   "source": [
    "def decodeer(geheime_zin):\n",
    "    echte_zin = ''\n",
    "    for teken in geheime_zin:\n",
    "        if teken in tekens_naar_letters:\n",
    "            letter = tekens_naar_letters.get(teken)\n",
    "            echte_zin = echte_zin + letter\n",
    "        else:\n",
    "            print(f'Ik kan teken {teken} niet decoderen')\n",
    "\n",
    "    return echte_zin"
   ],
   "metadata": {
    "collapsed": false,
    "pycharm": {
     "name": "#%%\n"
    }
   }
  },
  {
   "cell_type": "code",
   "execution_count": 61,
   "outputs": [
    {
     "data": {
      "text/plain": "'(:1*%99% *8 &%%1 %7^ 1*%€>'"
     },
     "execution_count": 61,
     "metadata": {},
     "output_type": "execute_result"
    }
   ],
   "source": [
    "codeer(\"juliette is heel erg lief!\")"
   ],
   "metadata": {
    "collapsed": false,
    "pycharm": {
     "name": "#%%\n"
    }
   }
  },
  {
   "cell_type": "code",
   "execution_count": 67,
   "outputs": [
    {
     "data": {
      "text/plain": "'JULIETTE IS HEEL ERG LIEF!'"
     },
     "execution_count": 67,
     "metadata": {},
     "output_type": "execute_result"
    }
   ],
   "source": [
    "decodeer('(:1*%99% *8 &%%1 %7^ 1*%€>')"
   ],
   "metadata": {
    "collapsed": false,
    "pycharm": {
     "name": "#%%\n"
    }
   }
  },
  {
   "cell_type": "code",
   "execution_count": null,
   "outputs": [],
   "source": [],
   "metadata": {
    "collapsed": false,
    "pycharm": {
     "name": "#%%\n"
    }
   }
  },
  {
   "cell_type": "code",
   "execution_count": null,
   "outputs": [],
   "source": [],
   "metadata": {
    "collapsed": false,
    "pycharm": {
     "name": "#%%\n"
    }
   }
  }
 ],
 "metadata": {
  "kernelspec": {
   "display_name": "Python 3",
   "language": "python",
   "name": "python3"
  },
  "language_info": {
   "codemirror_mode": {
    "name": "ipython",
    "version": 2
   },
   "file_extension": ".py",
   "mimetype": "text/x-python",
   "name": "python",
   "nbconvert_exporter": "python",
   "pygments_lexer": "ipython2",
   "version": "2.7.6"
  }
 },
 "nbformat": 4,
 "nbformat_minor": 0
}